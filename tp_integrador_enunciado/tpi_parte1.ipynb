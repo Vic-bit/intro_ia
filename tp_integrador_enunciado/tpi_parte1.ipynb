{
  "cells": [
    {
      "attachments": {},
      "cell_type": "markdown",
      "id": "07289bb0",
      "metadata": {},
      "source": [
        "# Trabajo integrador - Parte 1\n",
        "## Python y Numpy\n",
        "\n",
        "**Nombre**: Víctor David Silva"
      ]
    },
    {
      "cell_type": "code",
      "execution_count": 5,
      "id": "aaf94e0a",
      "metadata": {
        "id": "aaf94e0a"
      },
      "outputs": [],
      "source": [
        "import numpy as np"
      ]
    },
    {
      "attachments": {},
      "cell_type": "markdown",
      "id": "0ffe9554",
      "metadata": {},
      "source": [
        "## Ejercicio 1\n",
        "\n",
        "Dada una matriz en formato *numpy array*, donde cada fila de la matriz representa un vector matemático, se requiere computar las normas $l_0$, $l_1$, $l_2$, $l_{\\infty}$, según la siguientes definiciones:\n",
        "\n",
        "\\begin{equation}\n",
        "    ||\\mathbf{x}||^{p} = \\bigg(\\sum_{j=1}^{n}{|x_i|^p}\\bigg)^{\\frac{1}{p}}\n",
        "\\end{equation}\n",
        "\n",
        "con los casos especiales para $p=0$ y $p=\\infty$ siendo:\n",
        "\n",
        "\\begin{equation}\n",
        "    \\begin{array}{rcl}\n",
        "        ||\\mathbf{x}||_0 & = & \\bigg(\\sum_{j=1 \\wedge x_j != 0}{|x_i|}\\bigg)\\\\\n",
        "        ||\\mathbf{x}||_{\\infty} & = & \\max_{i}{|x_i|}\\\\\n",
        "    \\end{array}\n",
        "\\end{equation}"
      ]
    },
    {
      "cell_type": "code",
      "execution_count": 6,
      "id": "0bdb0ee3",
      "metadata": {},
      "outputs": [
        {
          "name": "stdout",
          "output_type": "stream",
          "text": [
            "Para la matriz: \n",
            " [[1 2]\n",
            " [3 4]]\n",
            "Vector norma l_0: \n",
            " [[2]\n",
            " [2]]\n",
            "Vector norma l_1: \n",
            " [[3]\n",
            " [7]]\n",
            "Vector norma l_2: \n",
            " [[4.12310563]\n",
            " [6.08276253]]\n",
            "Vector norma l_infinita: \n",
            " [[2]\n",
            " [4]]\n"
          ]
        }
      ],
      "source": [
        "\n",
        "def normas_matriz(matriz):\n",
        "    norma_l0 = np.sum(matriz > 0, axis=1)\n",
        "    norma_l1 = np.sum(np.abs(matriz), axis=1)\n",
        "    norma_l2 = np.sqrt(np.sum(matriz ** 2, axis=1))\n",
        "    norma_linf = np.max(matriz, axis=1)\n",
        "    return norma_l0, norma_l1, norma_l2, norma_linf\n",
        "\n",
        "A = np.matrix([[1, 2], [3, 4]])\n",
        " \n",
        "vector_norma_l0, vector_norma_l1, vector_norma_l2, vector_norma_linf = normas_matriz(A)\n",
        "\n",
        "print('Para la matriz: \\n', A)\n",
        "print('Vector norma l_0: \\n', vector_norma_l0)\n",
        "print('Vector norma l_1: \\n', vector_norma_l1)\n",
        "print('Vector norma l_2: \\n', vector_norma_l2)\n",
        "print('Vector norma l_infinita: \\n', vector_norma_linf)\n"
      ]
    },
    {
      "attachments": {},
      "cell_type": "markdown",
      "id": "dd66d862",
      "metadata": {},
      "source": [
        "## Ejercicio 2\n",
        "\n",
        "En clasificación contamos con dos arreglos, la “verdad” y la “predicción”. Cada elemento de los arreglos pueden tomar dos valores, “True” (representado por 1) y “False” (representado por 0). Entonces podemos definir 4 variables:\n",
        "\n",
        "* True Positive (TP): El valor verdadero es 1 y el valor predicho es 1\n",
        "* True Negative (TN): El valor verdadero es 0 y el valor predicho es 0\n",
        "* False Positive (FP): El valor verdadero es 0 y el valor predicho es 1\n",
        "* False Negative (FN): El valor verdadero es 1 y el valor predicho es 0\n",
        "\n",
        "A partir de esto definimos:\n",
        "\n",
        "* Precision = TP / (TP + FP)\n",
        "* Recall = TP / (TP + FN)\n",
        "* Accuracy = (TP + TN) / (TP + TN + FP + FN)\n",
        " \n",
        "Calcular las 3 métricas con Numpy y operaciones vectorizadas."
      ]
    },
    {
      "cell_type": "code",
      "execution_count": 7,
      "id": "794dcd58",
      "metadata": {},
      "outputs": [
        {
          "name": "stdout",
          "output_type": "stream",
          "text": [
            "precision: 0.5\n",
            "recall: 0.5\n",
            "accuracy: 0.4\n"
          ]
        }
      ],
      "source": [
        "\n",
        "truth =      np.array([1,1,0,1,1,1,0,0,0,1])\n",
        "prediction = np.array([1,1,1,1,0,0,1,1,0,0])\n",
        "\n",
        "#TP = TN, FP, FN = 0\n",
        "TP = ((truth==1) & (prediction==1)).sum()\n",
        "TN = ((truth==0) & (prediction==0)).sum()\n",
        "FP = ((truth==0) & (prediction==1)).sum()\n",
        "FN = ((truth==1) & (prediction==0)).sum()\n",
        "\n",
        "precision = TP/(TP+FP)\n",
        "recall = TP / (TP + FN)\n",
        "accuracy = (TP + TN) / (TP + TN + FP + FN)\n",
        "\n",
        "print('precision:',precision)\n",
        "print('recall:',recall)\n",
        "print('accuracy:',accuracy)\n"
      ]
    },
    {
      "attachments": {},
      "cell_type": "markdown",
      "id": "d0ac6f6f",
      "metadata": {},
      "source": [
        "## Ejercicio 3\n",
        "\n",
        "Crear una función que separe los datos en train-validation-test. Debe recibir de parametros:\n",
        "\n",
        "- X: Array o Dataframe que contiene los datos de entrada del sistema.\n",
        "- y: Array o Dataframe que contiene la(s) variable(s) target del problema.\n",
        "- train_percentage: _float_ el porcentaje de training.\n",
        "- test_percentage: _float_ el porcentaje de testing.\n",
        "- val_percentage: _float_ el porcentaje de validación.\n",
        "- shuffle: _bool_ determina si el split debe hacerse de manera random o no.\n",
        "\n",
        "Hints: \n",
        "\n",
        "* Usar Indexing y slicing\n",
        "* Usar np.random.[...]"
      ]
    },
    {
      "cell_type": "code",
      "execution_count": 8,
      "id": "ca85fc66",
      "metadata": {},
      "outputs": [
        {
          "name": "stdout",
          "output_type": "stream",
          "text": [
            "Los valores de X-train son: \n",
            " [40 42  2 37 57 44 20 46 12 47 25 13 30 17  4 10 34 23 54 51 59  9 16 35\n",
            " 50 24  5 36 18 31  0 27 49 19 52 29  8  6 15 32  3  1]\n",
            "Los valores de X-val son: \n",
            " [22 41 45 14 11 48 56 38 55]\n",
            "Los valores de X-test son: \n",
            " [21 43 58 39 26 28  7 33 53]\n",
            "\n",
            "Los valores de y-train son: \n",
            " [40 42  2 37 57 44 20 46 12 47 25 13 30 17  4 10 34 23 54 51 59  9 16 35\n",
            " 50 24  5 36 18 31  0 27 49 19 52 29  8  6 15 32  3  1]\n",
            "Los valores de y-val son: \n",
            " [22 41 45 14 11 48 56 38 55]\n",
            "Los valores de y-test son: \n",
            " [21 43 58 39 26 28  7 33 53]\n"
          ]
        }
      ],
      "source": [
        "import numpy as np\n",
        "\n",
        "def split(X, y, train_percentage, val_percentage, test_percentage, shuffle):\n",
        "      N = len(X)\n",
        "      if(shuffle):\n",
        "            index = np.random.permutation(N) \n",
        "      else:\n",
        "            index = np.arange(N)\n",
        "      train_N = int(N * train_percentage)\n",
        "      val_N = int(N * val_percentage)\n",
        "      test_N = int(N * test_percentage)\n",
        "      train_index = index[:train_N]\n",
        "      val_index = index[(train_N):(train_N+val_N)]\n",
        "      test_index = index[-test_N:]\n",
        "      return X[train_index], y[train_index], X[val_index], y[val_index], X[test_index], y[test_index]\n",
        "\n",
        "\n",
        "n = 60\n",
        "X = np.arange(0,n)\n",
        "y = np.arange(0,n)\n",
        "\n",
        "X_train, y_train, X_val, y_val, X_test, y_test = split(X,y,0.7,0.15,0.15,True)\n",
        "\n",
        "print('Los valores de X-train son: \\n', X_train)\n",
        "print('Los valores de X-val son: \\n', X_val)\n",
        "print('Los valores de X-test son: \\n', X_test)\n",
        "print('\\nLos valores de y-train son: \\n', y_train)\n",
        "print('Los valores de y-val son: \\n', y_val)\n",
        "print('Los valores de y-test son: \\n', y_test)"
      ]
    },
    {
      "cell_type": "code",
      "execution_count": null,
      "id": "c3d68a01",
      "metadata": {},
      "outputs": [],
      "source": []
    }
  ],
  "metadata": {
    "colab": {
      "collapsed_sections": [],
      "name": "Practica_clase_3.ipynb",
      "provenance": []
    },
    "kernelspec": {
      "display_name": "Python 3.10.7 64-bit",
      "language": "python",
      "name": "python3"
    },
    "language_info": {
      "codemirror_mode": {
        "name": "ipython",
        "version": 3
      },
      "file_extension": ".py",
      "mimetype": "text/x-python",
      "name": "python",
      "nbconvert_exporter": "python",
      "pygments_lexer": "ipython3",
      "version": "3.10.8"
    },
    "vscode": {
      "interpreter": {
        "hash": "b5c22da4a52024410f64f9c5a5e2b4ffeeb944a5ed00e8825a42174cdab30315"
      }
    }
  },
  "nbformat": 4,
  "nbformat_minor": 5
}
